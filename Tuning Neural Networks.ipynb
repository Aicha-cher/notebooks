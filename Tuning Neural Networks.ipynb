{
 "cells": [
  {
   "cell_type": "markdown",
   "metadata": {
    "collapsed": true
   },
   "source": [
    "# Fine Tuning a Lasagne Neural Network"
   ]
  },
  {
   "cell_type": "code",
   "execution_count": 92,
   "metadata": {
    "collapsed": true
   },
   "outputs": [],
   "source": [
    "%matplotlib inline\n",
    "import matplotlib\n",
    "import pandas as pd\n",
    "import numpy as np\n",
    "from sklearn.preprocessing import LabelEncoder\n",
    "from sklearn.cross_validation import train_test_split\n",
    "from sklearn.ensemble import RandomForestClassifier \n",
    "from sklearn.metrics import log_loss\n",
    "from nolearn.lasagne import NeuralNet\n",
    "from lasagne.layers import DenseLayer\n",
    "from lasagne.layers import InputLayer\n",
    "from lasagne.layers import DropoutLayer\n",
    "from lasagne.updates import adagrad\n",
    "from lasagne.nonlinearities import softmax"
   ]
  },
  {
   "cell_type": "markdown",
   "metadata": {},
   "source": [
    "# Import Data (Kaggle OTTO challenge)"
   ]
  },
  {
   "cell_type": "code",
   "execution_count": 93,
   "metadata": {
    "collapsed": false
   },
   "outputs": [],
   "source": [
    "X = pd.read_csv('../train.csv')\n",
    "X = X.drop('id', axis=1)\n",
    "\n",
    "# Shuffle data. It is originally oredered by class, it's too easy ...\n",
    "X = X.reindex(np.random.permutation(X.index))\n",
    "\n",
    "# Extract target\n",
    "# Encode it to make it manageable by ML algo\n",
    "# Convert to np.int32 to make lasagne happy\n",
    "y = X.target.values\n",
    "encoder = LabelEncoder()\n",
    "y = encoder.fit_transform(y).astype(np.int32)\n",
    "\n",
    "# Remove target from train, else it's too easy ...\n",
    "X = X.drop('target', axis=1)\n",
    "\n",
    "num_classes = len(encoder.classes_)\n",
    "num_features = X.shape[1]\n",
    "\n",
    "# Convert to np.array to make lasagne happy\n",
    "X = np.array(X)"
   ]
  },
  {
   "cell_type": "markdown",
   "metadata": {},
   "source": [
    "# First attempt"
   ]
  },
  {
   "cell_type": "code",
   "execution_count": 94,
   "metadata": {
    "collapsed": true
   },
   "outputs": [],
   "source": [
    "layers = [('input', InputLayer),\n",
    "           ('dense0', DenseLayer),\n",
    "           ('dropout0', DropoutLayer),\n",
    "           ('dense1', DenseLayer),\n",
    "           ('dropout1', DropoutLayer),\n",
    "           ('output', DenseLayer)]"
   ]
  },
  {
   "cell_type": "code",
   "execution_count": 95,
   "metadata": {
    "collapsed": false
   },
   "outputs": [
    {
     "name": "stdout",
     "output_type": "stream",
     "text": [
      "  DenseLayer        \t(None, 9)           \tproduces       9 outputs\n",
      "  DropoutLayer      \t(None, 256)         \tproduces     256 outputs\n",
      "  DenseLayer        \t(None, 256)         \tproduces     256 outputs\n",
      "  DropoutLayer      \t(None, 512)         \tproduces     512 outputs\n",
      "  DenseLayer        \t(None, 512)         \tproduces     512 outputs\n",
      "  InputLayer        \t(None, 93)          \tproduces      93 outputs\n",
      "\n",
      " Epoch  |  Train loss  |  Valid loss  |  Train / Val  |  Valid acc  |  Dur\n",
      "--------|--------------|--------------|---------------|-------------|-------\n",
      "     1  |  \u001b[94m  0.961585\u001b[0m  |  \u001b[32m  0.569846\u001b[0m  |     1.687448  |     78.39%  |  3.4s\n",
      "     2  |  \u001b[94m  0.551856\u001b[0m  |  \u001b[32m  0.536417\u001b[0m  |     1.028781  |     79.62%  |  3.4s\n",
      "     3  |  \u001b[94m  0.510527\u001b[0m  |  \u001b[32m  0.518852\u001b[0m  |     0.983957  |     80.23%  |  3.4s\n",
      "     4  |  \u001b[94m  0.479324\u001b[0m  |  \u001b[32m  0.507040\u001b[0m  |     0.945338  |     80.44%  |  3.5s\n",
      "     5  |  \u001b[94m  0.455582\u001b[0m  |  \u001b[32m  0.502916\u001b[0m  |     0.905882  |     80.66%  |  3.5s\n",
      "     6  |  \u001b[94m  0.434376\u001b[0m  |  \u001b[32m  0.498440\u001b[0m  |     0.871470  |     81.11%  |  3.5s\n",
      "     7  |  \u001b[94m  0.419140\u001b[0m  |  \u001b[32m  0.497122\u001b[0m  |     0.843133  |     81.16%  |  3.4s\n",
      "     8  |  \u001b[94m  0.400364\u001b[0m  |  \u001b[32m  0.492660\u001b[0m  |     0.812659  |     81.45%  |  3.4s\n",
      "     9  |  \u001b[94m  0.384492\u001b[0m  |    0.494928  |     0.776865  |     81.45%  |  3.4s\n",
      "    10  |  \u001b[94m  0.371755\u001b[0m  |    0.500878  |     0.742206  |     81.71%  |  3.4s\n",
      "    11  |  \u001b[94m  0.356615\u001b[0m  |    0.505883  |     0.704935  |     81.92%  |  3.5s\n",
      "    12  |  \u001b[94m  0.345363\u001b[0m  |    0.507122  |     0.681025  |     81.84%  |  3.5s\n",
      "    13  |  \u001b[94m  0.333862\u001b[0m  |    0.514605  |     0.648773  |     81.56%  |  3.4s\n",
      "    14  |  \u001b[94m  0.325613\u001b[0m  |    0.516065  |     0.630954  |     81.70%  |  3.5s\n",
      "    15  |  \u001b[94m  0.313595\u001b[0m  |    0.521659  |     0.601150  |     81.68%  |  3.4s\n"
     ]
    },
    {
     "data": {
      "text/plain": [
       "NeuralNet(X_tensor_type=<function matrix at 0x10bf9b8c0>,\n",
       "     batch_iterator_test=<nolearn.lasagne.BatchIterator object at 0x10d0a1310>,\n",
       "     batch_iterator_train=<nolearn.lasagne.BatchIterator object at 0x10d0a12d0>,\n",
       "     dense0_num_units=512, dense1_num_units=256, dropout0_p=0.1,\n",
       "     dropout1_p=0.1, eval_size=0.2, input_shape=(None, 93),\n",
       "     layers=[('input', <class 'lasagne.layers.input.InputLayer'>), ('dense0', <class 'lasagne.layers.dense.DenseLayer'>), ('dropout0', <class 'lasagne.layers.noise.DropoutLayer'>), ('dense1', <class 'lasagne.layers.dense.DenseLayer'>), ('dropout1', <class 'lasagne.layers.noise.DropoutLayer'>), ('output', <class 'lasagne.layers.dense.DenseLayer'>)],\n",
       "     loss=<function negative_log_likelihood at 0x10d09d488>, max_epochs=15,\n",
       "     more_params={}, on_epoch_finished=(), on_training_finished=(),\n",
       "     output_nonlinearity=<function softmax at 0x10c72d488>,\n",
       "     output_num_units=9, regression=False,\n",
       "     update=<function adagrad at 0x10d09d6e0>, update_learning_rate=0.04,\n",
       "     use_label_encoder=False, verbose=1,\n",
       "     y_tensor_type=TensorType(int32, vector))"
      ]
     },
     "execution_count": 95,
     "metadata": {},
     "output_type": "execute_result"
    }
   ],
   "source": [
    "net1 = NeuralNet(layers=layers,\n",
    "                 input_shape=(None, num_features),\n",
    "                 dense0_num_units=512,\n",
    "                 dropout0_p=0.1,\n",
    "                 dense1_num_units=256,\n",
    "                 dropout1_p=0.1,\n",
    "                 output_num_units=num_classes,\n",
    "                 output_nonlinearity=softmax,\n",
    "                 update=adagrad,\n",
    "                 update_learning_rate=0.04,\n",
    "                 eval_size=0.2,\n",
    "                 verbose=1,\n",
    "                 max_epochs=15)\n",
    "net1.fit(X, y)"
   ]
  },
  {
   "cell_type": "code",
   "execution_count": 115,
   "metadata": {
    "collapsed": false
   },
   "outputs": [
    {
     "data": {
      "image/png": "[encoded data removed]",
      "text/plain": [
       "<matplotlib.figure.Figure at 0x14674ced0>"
      ]
     },
     "metadata": {},
     "output_type": "display_data"
    }
   ],
   "source": [
    "from matplotlib import pyplot\n",
    "valid_loss1 = np.array([i[\"valid_loss\"] for i in net1.train_history_])\n",
    "pyplot.plot(valid_loss1, linewidth=3, label=\"first attempt\")\n",
    "pyplot.grid()\n",
    "pyplot.legend()\n",
    "pyplot.xlabel(\"epoch\")\n",
    "pyplot.ylabel(\"validation loss\")\n",
    "pyplot.xlim(0, 40)\n",
    "pyplot.ylim(0.48, 0.6)\n",
    "pyplot.yscale(\"log\")\n",
    "pyplot.show()"
   ]
  },
  {
   "cell_type": "markdown",
   "metadata": {},
   "source": [
    "##### We want to minimize loss.\n",
    "##### We can see that optimal performance is achieved around epoch = 6.\n",
    "##### After, the model is overfitting, and performance is worse.\n",
    "##### Let's add some drop out to prevent overfitting."
   ]
  },
  {
   "cell_type": "markdown",
   "metadata": {},
   "source": [
    "# Increase dropout"
   ]
  },
  {
   "cell_type": "code",
   "execution_count": 97,
   "metadata": {
    "collapsed": false
   },
   "outputs": [
    {
     "name": "stdout",
     "output_type": "stream",
     "text": [
      "  DenseLayer        \t(None, 9)           \tproduces       9 outputs\n",
      "  DropoutLayer      \t(None, 256)         \tproduces     256 outputs\n",
      "  DenseLayer        \t(None, 256)         \tproduces     256 outputs\n",
      "  DropoutLayer      \t(None, 512)         \tproduces     512 outputs\n",
      "  DenseLayer        \t(None, 512)         \tproduces     512 outputs\n",
      "  InputLayer        \t(None, 93)          \tproduces      93 outputs\n",
      "\n",
      " Epoch  |  Train loss  |  Valid loss  |  Train / Val  |  Valid acc  |  Dur\n",
      "--------|--------------|--------------|---------------|-------------|-------\n",
      "     1  |  \u001b[94m  1.044973\u001b[0m  |  \u001b[32m  0.609677\u001b[0m  |     1.713979  |     76.69%  |  3.5s\n",
      "     2  |  \u001b[94m  0.635917\u001b[0m  |  \u001b[32m  0.570027\u001b[0m  |     1.115591  |     78.37%  |  3.4s\n",
      "     3  |  \u001b[94m  0.590609\u001b[0m  |  \u001b[32m  0.551541\u001b[0m  |     1.070835  |     78.88%  |  3.4s\n",
      "     4  |  \u001b[94m  0.564516\u001b[0m  |  \u001b[32m  0.535426\u001b[0m  |     1.054331  |     79.61%  |  3.4s\n",
      "     5  |  \u001b[94m  0.548861\u001b[0m  |  \u001b[32m  0.526909\u001b[0m  |     1.041661  |     79.50%  |  3.5s\n",
      "     6  |  \u001b[94m  0.530427\u001b[0m  |  \u001b[32m  0.518840\u001b[0m  |     1.022332  |     79.89%  |  3.4s\n",
      "     7  |  \u001b[94m  0.518074\u001b[0m  |  \u001b[32m  0.514291\u001b[0m  |     1.007356  |     80.21%  |  3.5s\n",
      "     8  |  \u001b[94m  0.505006\u001b[0m  |  \u001b[32m  0.506865\u001b[0m  |     0.996332  |     80.47%  |  3.5s\n",
      "     9  |  \u001b[94m  0.494705\u001b[0m  |  \u001b[32m  0.503545\u001b[0m  |     0.982443  |     80.48%  |  3.4s\n",
      "    10  |  \u001b[94m  0.489064\u001b[0m  |  \u001b[32m  0.501913\u001b[0m  |     0.974401  |     80.64%  |  3.4s\n",
      "    11  |  \u001b[94m  0.478929\u001b[0m  |  \u001b[32m  0.496208\u001b[0m  |     0.965177  |     80.73%  |  3.5s\n",
      "    12  |  \u001b[94m  0.469602\u001b[0m  |  \u001b[32m  0.495799\u001b[0m  |     0.947163  |     80.91%  |  3.4s\n",
      "    13  |  \u001b[94m  0.462307\u001b[0m  |  \u001b[32m  0.493711\u001b[0m  |     0.936392  |     80.97%  |  3.4s\n",
      "    14  |  \u001b[94m  0.452724\u001b[0m  |  \u001b[32m  0.492071\u001b[0m  |     0.920039  |     81.06%  |  3.5s\n",
      "    15  |  \u001b[94m  0.448955\u001b[0m  |  \u001b[32m  0.491591\u001b[0m  |     0.913270  |     81.25%  |  3.4s\n"
     ]
    },
    {
     "data": {
      "text/plain": [
       "NeuralNet(X_tensor_type=<function matrix at 0x10bf9b8c0>,\n",
       "     batch_iterator_test=<nolearn.lasagne.BatchIterator object at 0x10d0a1310>,\n",
       "     batch_iterator_train=<nolearn.lasagne.BatchIterator object at 0x10d0a12d0>,\n",
       "     dense0_num_units=512, dense1_num_units=256, dropout0_p=0.4,\n",
       "     dropout1_p=0.4, eval_size=0.2, input_shape=(None, 93),\n",
       "     layers=[('input', <class 'lasagne.layers.input.InputLayer'>), ('dense0', <class 'lasagne.layers.dense.DenseLayer'>), ('dropout0', <class 'lasagne.layers.noise.DropoutLayer'>), ('dense1', <class 'lasagne.layers.dense.DenseLayer'>), ('dropout1', <class 'lasagne.layers.noise.DropoutLayer'>), ('output', <class 'lasagne.layers.dense.DenseLayer'>)],\n",
       "     loss=<function negative_log_likelihood at 0x10d09d488>, max_epochs=15,\n",
       "     more_params={}, on_epoch_finished=(), on_training_finished=(),\n",
       "     output_nonlinearity=<function softmax at 0x10c72d488>,\n",
       "     output_num_units=9, regression=False,\n",
       "     update=<function adagrad at 0x10d09d6e0>, update_learning_rate=0.04,\n",
       "     use_label_encoder=False, verbose=1,\n",
       "     y_tensor_type=TensorType(int32, vector))"
      ]
     },
     "execution_count": 97,
     "metadata": {},
     "output_type": "execute_result"
    }
   ],
   "source": [
    "net2 = NeuralNet(layers=layers,\n",
    "                 input_shape=(None, num_features),\n",
    "                 dense0_num_units=512,\n",
    "                 dropout0_p=0.4,\n",
    "                 dense1_num_units=256,\n",
    "                 dropout1_p=0.4,\n",
    "                 output_num_units=num_classes,\n",
    "                 output_nonlinearity=softmax,\n",
    "                 update=adagrad,\n",
    "                 update_learning_rate=0.04,\n",
    "                 eval_size=0.2,\n",
    "                 verbose=1,\n",
    "                 max_epochs=15)\n",
    "net2.fit(X, y)"
   ]
  },
  {
   "cell_type": "code",
   "execution_count": 116,
   "metadata": {
    "collapsed": false
   },
   "outputs": [
    {
     "data": {
      "image/png": "[encoded data removed]",
      "text/plain": [
       "<matplotlib.figure.Figure at 0x14a1343d0>"
      ]
     },
     "metadata": {},
     "output_type": "display_data"
    }
   ],
   "source": [
    "valid_loss1 = np.array([i[\"valid_loss\"] for i in net1.train_history_])\n",
    "valid_loss2 = np.array([i[\"valid_loss\"] for i in net2.train_history_])\n",
    "pyplot.plot(valid_loss1, linewidth=3, label=\"first attempt\")\n",
    "pyplot.plot(valid_loss2, linewidth=3, label=\"increased dropout\")\n",
    "pyplot.grid()\n",
    "pyplot.legend()\n",
    "pyplot.xlabel(\"epoch\")\n",
    "pyplot.ylabel(\"validation loss\")\n",
    "pyplot.xlim(0, 40)\n",
    "pyplot.ylim(0.48, 0.6)\n",
    "pyplot.yscale(\"log\")\n",
    "pyplot.show()"
   ]
  },
  {
   "cell_type": "markdown",
   "metadata": {},
   "source": [
    "##### That's better. No more overfitting, and we feel we can increase epoch.\n",
    "##### Let's do it, to see what loss we can reach..."
   ]
  },
  {
   "cell_type": "markdown",
   "metadata": {},
   "source": [
    "# Increase epoch"
   ]
  },
  {
   "cell_type": "code",
   "execution_count": 99,
   "metadata": {
    "collapsed": false
   },
   "outputs": [
    {
     "name": "stdout",
     "output_type": "stream",
     "text": [
      "  DenseLayer        \t(None, 9)           \tproduces       9 outputs\n",
      "  DropoutLayer      \t(None, 256)         \tproduces     256 outputs\n",
      "  DenseLayer        \t(None, 256)         \tproduces     256 outputs\n",
      "  DropoutLayer      \t(None, 512)         \tproduces     512 outputs\n",
      "  DenseLayer        \t(None, 512)         \tproduces     512 outputs\n",
      "  InputLayer        \t(None, 93)          \tproduces      93 outputs\n",
      "\n",
      " Epoch  |  Train loss  |  Valid loss  |  Train / Val  |  Valid acc  |  Dur\n",
      "--------|--------------|--------------|---------------|-------------|-------\n",
      "     1  |  \u001b[94m  1.083684\u001b[0m  |  \u001b[32m  0.615322\u001b[0m  |     1.761166  |     77.18%  |  3.6s\n",
      "     2  |  \u001b[94m  0.634421\u001b[0m  |  \u001b[32m  0.573250\u001b[0m  |     1.106709  |     78.71%  |  3.6s\n",
      "     3  |  \u001b[94m  0.595260\u001b[0m  |  \u001b[32m  0.549643\u001b[0m  |     1.082995  |     78.87%  |  3.5s\n",
      "     4  |  \u001b[94m  0.569254\u001b[0m  |  \u001b[32m  0.536748\u001b[0m  |     1.060560  |     79.54%  |  3.5s\n",
      "     5  |  \u001b[94m  0.547817\u001b[0m  |  \u001b[32m  0.525652\u001b[0m  |     1.042167  |     79.84%  |  3.7s\n",
      "     6  |  \u001b[94m  0.535484\u001b[0m  |  \u001b[32m  0.518100\u001b[0m  |     1.033553  |     80.00%  |  3.6s\n",
      "     7  |  \u001b[94m  0.517511\u001b[0m  |  \u001b[32m  0.512998\u001b[0m  |     1.008797  |     80.30%  |  3.5s\n",
      "     8  |  \u001b[94m  0.505576\u001b[0m  |  \u001b[32m  0.505574\u001b[0m  |     1.000004  |     80.70%  |  3.5s\n",
      "     9  |  \u001b[94m  0.499057\u001b[0m  |  \u001b[32m  0.504122\u001b[0m  |     0.989953  |     80.66%  |  3.5s\n",
      "    10  |  \u001b[94m  0.484037\u001b[0m  |  \u001b[32m  0.501770\u001b[0m  |     0.964657  |     80.75%  |  3.5s\n",
      "    11  |  \u001b[94m  0.479896\u001b[0m  |  \u001b[32m  0.498364\u001b[0m  |     0.962942  |     80.85%  |  3.5s\n",
      "    12  |  \u001b[94m  0.469377\u001b[0m  |  \u001b[32m  0.497644\u001b[0m  |     0.943199  |     80.75%  |  3.5s\n",
      "    13  |  \u001b[94m  0.463037\u001b[0m  |  \u001b[32m  0.493305\u001b[0m  |     0.938643  |     80.81%  |  3.5s\n",
      "    14  |  \u001b[94m  0.454152\u001b[0m  |    0.493305  |     0.920630  |     81.16%  |  3.5s\n",
      "    15  |  \u001b[94m  0.452626\u001b[0m  |  \u001b[32m  0.491639\u001b[0m  |     0.920648  |     81.19%  |  3.5s\n",
      "    16  |  \u001b[94m  0.442346\u001b[0m  |  \u001b[32m  0.490986\u001b[0m  |     0.900935  |     81.33%  |  3.5s\n",
      "    17  |  \u001b[94m  0.437703\u001b[0m  |    0.492344  |     0.889018  |     81.34%  |  3.5s\n",
      "    18  |  \u001b[94m  0.430048\u001b[0m  |  \u001b[32m  0.488733\u001b[0m  |     0.879924  |     81.29%  |  3.5s\n",
      "    19  |  \u001b[94m  0.425113\u001b[0m  |  \u001b[32m  0.488264\u001b[0m  |     0.870661  |     81.44%  |  3.5s\n",
      "    20  |  \u001b[94m  0.422815\u001b[0m  |    0.490644  |     0.861755  |     81.55%  |  3.5s\n",
      "    21  |  \u001b[94m  0.416552\u001b[0m  |    0.489549  |     0.850889  |     81.44%  |  3.5s\n",
      "    22  |  \u001b[94m  0.412043\u001b[0m  |    0.490204  |     0.840555  |     81.49%  |  3.5s\n",
      "    23  |  \u001b[94m  0.405485\u001b[0m  |    0.491078  |     0.825703  |     81.57%  |  3.5s\n",
      "    24  |  \u001b[94m  0.403336\u001b[0m  |    0.489069  |     0.824703  |     81.54%  |  3.5s\n",
      "    25  |  \u001b[94m  0.399174\u001b[0m  |    0.488835  |     0.816581  |     81.58%  |  3.5s\n",
      "    26  |  \u001b[94m  0.395432\u001b[0m  |    0.488672  |     0.809198  |     81.51%  |  3.5s\n",
      "    27  |  \u001b[94m  0.391387\u001b[0m  |    0.489203  |     0.800052  |     81.60%  |  3.5s\n",
      "    28  |  \u001b[94m  0.386905\u001b[0m  |  \u001b[32m  0.488190\u001b[0m  |     0.792530  |     81.58%  |  3.5s\n",
      "    29  |  \u001b[94m  0.385069\u001b[0m  |    0.489231  |     0.787090  |     81.80%  |  3.5s\n",
      "    30  |  \u001b[94m  0.382593\u001b[0m  |    0.491264  |     0.778792  |     81.74%  |  3.5s\n",
      "    31  |  \u001b[94m  0.378384\u001b[0m  |    0.491787  |     0.769405  |     81.91%  |  3.5s\n",
      "    32  |  \u001b[94m  0.375006\u001b[0m  |    0.493888  |     0.759294  |     82.00%  |  3.5s\n",
      "    33  |  \u001b[94m  0.372261\u001b[0m  |    0.492997  |     0.755098  |     81.70%  |  3.5s\n",
      "    34  |  \u001b[94m  0.367755\u001b[0m  |    0.494427  |     0.743801  |     81.81%  |  3.5s\n",
      "    35  |  \u001b[94m  0.367043\u001b[0m  |    0.493094  |     0.744367  |     81.76%  |  3.5s\n",
      "    36  |  \u001b[94m  0.362735\u001b[0m  |    0.493018  |     0.735744  |     82.06%  |  3.5s\n",
      "    37  |  \u001b[94m  0.361314\u001b[0m  |    0.493614  |     0.731977  |     81.94%  |  3.5s\n",
      "    38  |  \u001b[94m  0.358777\u001b[0m  |    0.494867  |     0.724995  |     82.04%  |  3.5s\n",
      "    39  |  \u001b[94m  0.356688\u001b[0m  |    0.496720  |     0.718088  |     81.90%  |  3.5s\n",
      "    40  |  \u001b[94m  0.354222\u001b[0m  |    0.496319  |     0.713698  |     81.90%  |  3.5s\n"
     ]
    },
    {
     "data": {
      "text/plain": [
       "NeuralNet(X_tensor_type=<function matrix at 0x10bf9b8c0>,\n",
       "     batch_iterator_test=<nolearn.lasagne.BatchIterator object at 0x10d0a1310>,\n",
       "     batch_iterator_train=<nolearn.lasagne.BatchIterator object at 0x10d0a12d0>,\n",
       "     dense0_num_units=512, dense1_num_units=256, dropout0_p=0.4,\n",
       "     dropout1_p=0.4, eval_size=0.2, input_shape=(None, 93),\n",
       "     layers=[('input', <class 'lasagne.layers.input.InputLayer'>), ('dense0', <class 'lasagne.layers.dense.DenseLayer'>), ('dropout0', <class 'lasagne.layers.noise.DropoutLayer'>), ('dense1', <class 'lasagne.layers.dense.DenseLayer'>), ('dropout1', <class 'lasagne.layers.noise.DropoutLayer'>), ('output', <class 'lasagne.layers.dense.DenseLayer'>)],\n",
       "     loss=<function negative_log_likelihood at 0x10d09d488>, max_epochs=40,\n",
       "     more_params={}, on_epoch_finished=(), on_training_finished=(),\n",
       "     output_nonlinearity=<function softmax at 0x10c72d488>,\n",
       "     output_num_units=9, regression=False,\n",
       "     update=<function adagrad at 0x10d09d6e0>, update_learning_rate=0.04,\n",
       "     use_label_encoder=False, verbose=1,\n",
       "     y_tensor_type=TensorType(int32, vector))"
      ]
     },
     "execution_count": 99,
     "metadata": {},
     "output_type": "execute_result"
    }
   ],
   "source": [
    "net3 = NeuralNet(layers=layers,\n",
    "                 input_shape=(None, num_features),\n",
    "                 dense0_num_units=512,\n",
    "                 dropout0_p=0.4,\n",
    "                 dense1_num_units=256,\n",
    "                 dropout1_p=0.4,\n",
    "                 output_num_units=num_classes,\n",
    "                 output_nonlinearity=softmax,\n",
    "                 update=adagrad,\n",
    "                 update_learning_rate=0.04,\n",
    "                 eval_size=0.2,\n",
    "                 verbose=1,\n",
    "                 max_epochs=40)\n",
    "net3.fit(X, y)"
   ]
  },
  {
   "cell_type": "code",
   "execution_count": 117,
   "metadata": {
    "collapsed": false
   },
   "outputs": [
    {
     "data": {
      "image/png": "[encoded data removed]",
      "text/plain": [
       "<matplotlib.figure.Figure at 0x14a2c0a90>"
      ]
     },
     "metadata": {},
     "output_type": "display_data"
    }
   ],
   "source": [
    "valid_loss1 = np.array([i[\"valid_loss\"] for i in net1.train_history_])\n",
    "valid_loss3 = np.array([i[\"valid_loss\"] for i in net3.train_history_])\n",
    "pyplot.plot(valid_loss1, linewidth=3, label=\"first attempt\")\n",
    "pyplot.plot(valid_loss3, linewidth=3, label=\"increased dropout & epoch\")\n",
    "pyplot.grid()\n",
    "pyplot.legend()\n",
    "pyplot.xlabel(\"epoch\")\n",
    "pyplot.ylabel(\"validation loss\")\n",
    "pyplot.xlim(0, 40)\n",
    "pyplot.ylim(0.48, 0.6)\n",
    "pyplot.yscale(\"log\")\n",
    "pyplot.show()"
   ]
  },
  {
   "cell_type": "markdown",
   "metadata": {},
   "source": [
    "##### Let's see if we can improve performance further by adding neurons"
   ]
  },
  {
   "cell_type": "markdown",
   "metadata": {},
   "source": [
    "# Increase number of neurons"
   ]
  },
  {
   "cell_type": "code",
   "execution_count": 101,
   "metadata": {
    "collapsed": false
   },
   "outputs": [
    {
     "name": "stdout",
     "output_type": "stream",
     "text": [
      "  DenseLayer        \t(None, 9)           \tproduces       9 outputs\n",
      "  DropoutLayer      \t(None, 1000)        \tproduces    1000 outputs\n",
      "  DenseLayer        \t(None, 1000)        \tproduces    1000 outputs\n",
      "  DropoutLayer      \t(None, 2000)        \tproduces    2000 outputs\n",
      "  DenseLayer        \t(None, 2000)        \tproduces    2000 outputs\n",
      "  InputLayer        \t(None, 93)          \tproduces      93 outputs\n",
      "\n",
      " Epoch  |  Train loss  |  Valid loss  |  Train / Val  |  Valid acc  |  Dur\n",
      "--------|--------------|--------------|---------------|-------------|-------\n",
      "     1  |  \u001b[94m  3.202985\u001b[0m  |  \u001b[32m  0.601103\u001b[0m  |     5.328511  |     77.21%  |  25.3s\n",
      "     2  |  \u001b[94m  0.619425\u001b[0m  |  \u001b[32m  0.568111\u001b[0m  |     1.090324  |     77.96%  |  25.4s\n",
      "     3  |  \u001b[94m  0.577776\u001b[0m  |  \u001b[32m  0.542747\u001b[0m  |     1.064539  |     79.19%  |  25.4s\n",
      "     4  |  \u001b[94m  0.547984\u001b[0m  |  \u001b[32m  0.529065\u001b[0m  |     1.035759  |     79.62%  |  25.4s\n",
      "     5  |  \u001b[94m  0.523010\u001b[0m  |  \u001b[32m  0.518455\u001b[0m  |     1.008787  |     79.94%  |  25.5s\n",
      "     6  |  \u001b[94m  0.500298\u001b[0m  |  \u001b[32m  0.506722\u001b[0m  |     0.987321  |     80.58%  |  25.5s\n",
      "     7  |  \u001b[94m  0.483852\u001b[0m  |  \u001b[32m  0.504145\u001b[0m  |     0.959747  |     80.69%  |  25.5s\n",
      "     8  |  \u001b[94m  0.468220\u001b[0m  |  \u001b[32m  0.500258\u001b[0m  |     0.935957  |     80.88%  |  25.5s\n",
      "     9  |  \u001b[94m  0.456290\u001b[0m  |  \u001b[32m  0.494565\u001b[0m  |     0.922609  |     81.18%  |  25.5s\n",
      "    10  |  \u001b[94m  0.442192\u001b[0m  |    0.495798  |     0.891879  |     80.96%  |  25.6s\n",
      "    11  |  \u001b[94m  0.431233\u001b[0m  |  \u001b[32m  0.492876\u001b[0m  |     0.874933  |     81.21%  |  25.6s\n",
      "    12  |  \u001b[94m  0.418783\u001b[0m  |  \u001b[32m  0.489892\u001b[0m  |     0.854849  |     81.33%  |  25.7s\n",
      "    13  |  \u001b[94m  0.409298\u001b[0m  |  \u001b[32m  0.489567\u001b[0m  |     0.836041  |     81.55%  |  26.7s\n",
      "    14  |  \u001b[94m  0.397279\u001b[0m  |    0.491751  |     0.807887  |     81.56%  |  25.6s\n",
      "    15  |  \u001b[94m  0.387477\u001b[0m  |    0.491997  |     0.787560  |     81.62%  |  25.6s\n",
      "    16  |  \u001b[94m  0.378524\u001b[0m  |    0.494744  |     0.765090  |     81.73%  |  25.6s\n",
      "    17  |  \u001b[94m  0.370492\u001b[0m  |    0.492102  |     0.752875  |     81.47%  |  25.7s\n",
      "    18  |  \u001b[94m  0.364706\u001b[0m  |    0.492064  |     0.741175  |     81.81%  |  26.1s\n",
      "    19  |  \u001b[94m  0.355034\u001b[0m  |    0.496347  |     0.715292  |     81.74%  |  25.6s\n",
      "    20  |  \u001b[94m  0.346894\u001b[0m  |    0.495908  |     0.699513  |     81.80%  |  25.6s\n",
      "    21  |  \u001b[94m  0.342565\u001b[0m  |    0.496558  |     0.689879  |     81.77%  |  25.6s\n",
      "    22  |  \u001b[94m  0.333603\u001b[0m  |    0.500648  |     0.666343  |     81.70%  |  25.7s\n",
      "    23  |  \u001b[94m  0.327161\u001b[0m  |    0.500987  |     0.653033  |     81.83%  |  26.5s\n",
      "    24  |  \u001b[94m  0.318016\u001b[0m  |    0.510353  |     0.623130  |     81.69%  |  26.3s\n",
      "    25  |  \u001b[94m  0.308679\u001b[0m  |    0.511190  |     0.603844  |     81.88%  |  26.2s\n"
     ]
    },
    {
     "data": {
      "text/plain": [
       "NeuralNet(X_tensor_type=<function matrix at 0x10bf9b8c0>,\n",
       "     batch_iterator_test=<nolearn.lasagne.BatchIterator object at 0x10d0a1310>,\n",
       "     batch_iterator_train=<nolearn.lasagne.BatchIterator object at 0x10d0a12d0>,\n",
       "     dense0_num_units=2000, dense1_num_units=1000, dropout0_p=0.4,\n",
       "     dropout1_p=0.4, eval_size=0.2, input_shape=(None, 93),\n",
       "     layers=[('input', <class 'lasagne.layers.input.InputLayer'>), ('dense0', <class 'lasagne.layers.dense.DenseLayer'>), ('dropout0', <class 'lasagne.layers.noise.DropoutLayer'>), ('dense1', <class 'lasagne.layers.dense.DenseLayer'>), ('dropout1', <class 'lasagne.layers.noise.DropoutLayer'>), ('output', <class 'lasagne.layers.dense.DenseLayer'>)],\n",
       "     loss=<function negative_log_likelihood at 0x10d09d488>, max_epochs=25,\n",
       "     more_params={}, on_epoch_finished=(), on_training_finished=(),\n",
       "     output_nonlinearity=<function softmax at 0x10c72d488>,\n",
       "     output_num_units=9, regression=False,\n",
       "     update=<function adagrad at 0x10d09d6e0>, update_learning_rate=0.04,\n",
       "     use_label_encoder=False, verbose=1,\n",
       "     y_tensor_type=TensorType(int32, vector))"
      ]
     },
     "execution_count": 101,
     "metadata": {},
     "output_type": "execute_result"
    }
   ],
   "source": [
    "net4 = NeuralNet(layers=layers,\n",
    "                 input_shape=(None, num_features),\n",
    "                 dense0_num_units=2000,\n",
    "                 dropout0_p=0.4,\n",
    "                 dense1_num_units=1000,\n",
    "                 dropout1_p=0.4,\n",
    "                 output_num_units=num_classes,\n",
    "                 output_nonlinearity=softmax,\n",
    "                 update=adagrad,\n",
    "                 update_learning_rate=0.04,\n",
    "                 eval_size=0.2,\n",
    "                 verbose=1,\n",
    "                 max_epochs=25)\n",
    "net4.fit(X, y)"
   ]
  },
  {
   "cell_type": "code",
   "execution_count": 118,
   "metadata": {
    "collapsed": false
   },
   "outputs": [
    {
     "data": {
      "image/png": "[encoded data removed]",
      "text/plain": [
       "<matplotlib.figure.Figure at 0x14bed2a10>"
      ]
     },
     "metadata": {},
     "output_type": "display_data"
    }
   ],
   "source": [
    "valid_loss1 = np.array([i[\"valid_loss\"] for i in net1.train_history_])\n",
    "valid_loss3 = np.array([i[\"valid_loss\"] for i in net3.train_history_])\n",
    "valid_loss4 = np.array([i[\"valid_loss\"] for i in net4.train_history_])\n",
    "pyplot.plot(valid_loss1, linewidth=3, label=\"first attempt\")\n",
    "pyplot.plot(valid_loss3, linewidth=3, label=\"increased dropout & epoch\")\n",
    "pyplot.plot(valid_loss4, linewidth=3, label=\"increased neurons\")\n",
    "pyplot.grid()\n",
    "pyplot.legend()\n",
    "pyplot.xlabel(\"epoch\")\n",
    "pyplot.ylabel(\"validation loss\")\n",
    "pyplot.xlim(0, 40)\n",
    "pyplot.ylim(0.48, 0.6)\n",
    "pyplot.yscale(\"log\")\n",
    "pyplot.show()"
   ]
  },
  {
   "cell_type": "markdown",
   "metadata": {},
   "source": [
    "##### That's better, but we start overfitting around epoch 12.\n",
    "##### To prevent overfitting let's now decrease the learning rate."
   ]
  },
  {
   "cell_type": "markdown",
   "metadata": {},
   "source": [
    "# Decrease learning rate"
   ]
  },
  {
   "cell_type": "code",
   "execution_count": 103,
   "metadata": {
    "collapsed": false
   },
   "outputs": [
    {
     "name": "stdout",
     "output_type": "stream",
     "text": [
      "  DenseLayer        \t(None, 9)           \tproduces       9 outputs\n",
      "  DropoutLayer      \t(None, 1000)        \tproduces    1000 outputs\n",
      "  DenseLayer        \t(None, 1000)        \tproduces    1000 outputs\n",
      "  DropoutLayer      \t(None, 2000)        \tproduces    2000 outputs\n",
      "  DenseLayer        \t(None, 2000)        \tproduces    2000 outputs\n",
      "  InputLayer        \t(None, 93)          \tproduces      93 outputs\n",
      "\n",
      " Epoch  |  Train loss  |  Valid loss  |  Train / Val  |  Valid acc  |  Dur\n",
      "--------|--------------|--------------|---------------|-------------|-------\n",
      "     1  |  \u001b[94m  0.785066\u001b[0m  |  \u001b[32m  0.605714\u001b[0m  |     1.296100  |     78.05%  |  26.9s\n",
      "     2  |  \u001b[94m  0.604593\u001b[0m  |  \u001b[32m  0.573043\u001b[0m  |     1.055058  |     78.96%  |  27.0s\n",
      "     3  |  \u001b[94m  0.571249\u001b[0m  |  \u001b[32m  0.555948\u001b[0m  |     1.027522  |     79.20%  |  26.4s\n",
      "     4  |  \u001b[94m  0.549684\u001b[0m  |  \u001b[32m  0.543490\u001b[0m  |     1.011397  |     79.53%  |  26.6s\n",
      "     5  |  \u001b[94m  0.532101\u001b[0m  |  \u001b[32m  0.533102\u001b[0m  |     0.998122  |     79.86%  |  26.6s\n",
      "     6  |  \u001b[94m  0.519003\u001b[0m  |  \u001b[32m  0.526830\u001b[0m  |     0.985143  |     80.07%  |  27.0s\n",
      "     7  |  \u001b[94m  0.507170\u001b[0m  |  \u001b[32m  0.523813\u001b[0m  |     0.968228  |     80.19%  |  27.2s\n",
      "     8  |  \u001b[94m  0.497175\u001b[0m  |  \u001b[32m  0.517227\u001b[0m  |     0.961232  |     80.43%  |  26.5s\n",
      "     9  |  \u001b[94m  0.491181\u001b[0m  |  \u001b[32m  0.513250\u001b[0m  |     0.957001  |     80.48%  |  26.1s\n",
      "    10  |  \u001b[94m  0.481064\u001b[0m  |  \u001b[32m  0.510674\u001b[0m  |     0.942020  |     80.46%  |  26.1s\n",
      "    11  |  \u001b[94m  0.472168\u001b[0m  |  \u001b[32m  0.508050\u001b[0m  |     0.929374  |     80.56%  |  26.1s\n",
      "    12  |  \u001b[94m  0.468422\u001b[0m  |  \u001b[32m  0.505303\u001b[0m  |     0.927012  |     80.77%  |  26.0s\n",
      "    13  |  \u001b[94m  0.460122\u001b[0m  |  \u001b[32m  0.502647\u001b[0m  |     0.915397  |     80.81%  |  26.1s\n",
      "    14  |  \u001b[94m  0.456615\u001b[0m  |  \u001b[32m  0.499131\u001b[0m  |     0.914819  |     80.90%  |  26.2s\n",
      "    15  |  \u001b[94m  0.452646\u001b[0m  |    0.500578  |     0.904247  |     80.90%  |  26.1s\n",
      "    16  |  \u001b[94m  0.446253\u001b[0m  |  \u001b[32m  0.497338\u001b[0m  |     0.897284  |     80.96%  |  26.1s\n",
      "    17  |  \u001b[94m  0.440275\u001b[0m  |  \u001b[32m  0.495337\u001b[0m  |     0.888838  |     80.94%  |  27.9s\n",
      "    18  |  \u001b[94m  0.435947\u001b[0m  |  \u001b[32m  0.494368\u001b[0m  |     0.881827  |     81.06%  |  26.4s\n",
      "    19  |  \u001b[94m  0.433526\u001b[0m  |  \u001b[32m  0.492275\u001b[0m  |     0.880657  |     81.15%  |  26.2s\n",
      "    20  |  \u001b[94m  0.429309\u001b[0m  |  \u001b[32m  0.490950\u001b[0m  |     0.874446  |     81.13%  |  26.1s\n",
      "    21  |  \u001b[94m  0.423230\u001b[0m  |  \u001b[32m  0.490207\u001b[0m  |     0.863370  |     81.16%  |  26.1s\n",
      "    22  |  \u001b[94m  0.419448\u001b[0m  |    0.490611  |     0.854950  |     81.16%  |  26.2s\n",
      "    23  |  \u001b[94m  0.417507\u001b[0m  |  \u001b[32m  0.489394\u001b[0m  |     0.853110  |     81.20%  |  27.4s\n",
      "    24  |  \u001b[94m  0.414273\u001b[0m  |  \u001b[32m  0.488319\u001b[0m  |     0.848365  |     81.25%  |  26.7s\n",
      "    25  |  \u001b[94m  0.407745\u001b[0m  |  \u001b[32m  0.487761\u001b[0m  |     0.835952  |     81.35%  |  26.7s\n",
      "    26  |  \u001b[94m  0.407437\u001b[0m  |  \u001b[32m  0.486588\u001b[0m  |     0.837335  |     81.46%  |  27.3s\n",
      "    27  |  \u001b[94m  0.402087\u001b[0m  |    0.487373  |     0.825010  |     81.33%  |  27.5s\n",
      "    28  |  \u001b[94m  0.400135\u001b[0m  |  \u001b[32m  0.485433\u001b[0m  |     0.824285  |     81.51%  |  26.2s\n",
      "    29  |  \u001b[94m  0.397641\u001b[0m  |    0.485604  |     0.818859  |     81.52%  |  26.2s\n",
      "    30  |  \u001b[94m  0.393772\u001b[0m  |  \u001b[32m  0.484917\u001b[0m  |     0.812040  |     81.57%  |  27.1s\n",
      "    31  |  \u001b[94m  0.393345\u001b[0m  |  \u001b[32m  0.484345\u001b[0m  |     0.812119  |     81.55%  |  27.7s\n",
      "    32  |  \u001b[94m  0.390038\u001b[0m  |    0.484904  |     0.804361  |     81.70%  |  27.1s\n",
      "    33  |  \u001b[94m  0.388243\u001b[0m  |  \u001b[32m  0.483828\u001b[0m  |     0.802441  |     81.74%  |  26.6s\n",
      "    34  |  \u001b[94m  0.383541\u001b[0m  |  \u001b[32m  0.483764\u001b[0m  |     0.792827  |     81.85%  |  26.2s\n",
      "    35  |  \u001b[94m  0.382206\u001b[0m  |  \u001b[32m  0.483056\u001b[0m  |     0.791226  |     81.85%  |  26.2s\n",
      "    36  |  \u001b[94m  0.380974\u001b[0m  |  \u001b[32m  0.481959\u001b[0m  |     0.790470  |     81.91%  |  26.2s\n",
      "    37  |  \u001b[94m  0.377788\u001b[0m  |    0.482154  |     0.783541  |     81.94%  |  26.2s\n",
      "    38  |  \u001b[94m  0.376357\u001b[0m  |    0.482445  |     0.780103  |     81.94%  |  26.2s\n",
      "    39  |  \u001b[94m  0.373250\u001b[0m  |    0.483610  |     0.771799  |     82.01%  |  26.2s\n",
      "    40  |  \u001b[94m  0.370505\u001b[0m  |    0.483657  |     0.766051  |     81.86%  |  26.2s\n"
     ]
    },
    {
     "data": {
      "text/plain": [
       "NeuralNet(X_tensor_type=<function matrix at 0x10bf9b8c0>,\n",
       "     batch_iterator_test=<nolearn.lasagne.BatchIterator object at 0x10d0a1310>,\n",
       "     batch_iterator_train=<nolearn.lasagne.BatchIterator object at 0x10d0a12d0>,\n",
       "     dense0_num_units=2000, dense1_num_units=1000, dropout0_p=0.4,\n",
       "     dropout1_p=0.4, eval_size=0.2, input_shape=(None, 93),\n",
       "     layers=[('input', <class 'lasagne.layers.input.InputLayer'>), ('dense0', <class 'lasagne.layers.dense.DenseLayer'>), ('dropout0', <class 'lasagne.layers.noise.DropoutLayer'>), ('dense1', <class 'lasagne.layers.dense.DenseLayer'>), ('dropout1', <class 'lasagne.layers.noise.DropoutLayer'>), ('output', <class 'lasagne.layers.dense.DenseLayer'>)],\n",
       "     loss=<function negative_log_likelihood at 0x10d09d488>, max_epochs=40,\n",
       "     more_params={}, on_epoch_finished=(), on_training_finished=(),\n",
       "     output_nonlinearity=<function softmax at 0x10c72d488>,\n",
       "     output_num_units=9, regression=False,\n",
       "     update=<function adagrad at 0x10d09d6e0>, update_learning_rate=0.004,\n",
       "     use_label_encoder=False, verbose=1,\n",
       "     y_tensor_type=TensorType(int32, vector))"
      ]
     },
     "execution_count": 103,
     "metadata": {},
     "output_type": "execute_result"
    }
   ],
   "source": [
    "net5 = NeuralNet(layers=layers,\n",
    "                 input_shape=(None, num_features),\n",
    "                 dense0_num_units=2000,\n",
    "                 dropout0_p=0.4,\n",
    "                 dense1_num_units=1000,\n",
    "                 dropout1_p=0.4,\n",
    "                 output_num_units=num_classes,\n",
    "                 output_nonlinearity=softmax,\n",
    "                 update=adagrad,\n",
    "                 update_learning_rate=0.004,\n",
    "                 eval_size=0.2,\n",
    "                 verbose=1,\n",
    "                 max_epochs=40)\n",
    "net5.fit(X, y)"
   ]
  },
  {
   "cell_type": "code",
   "execution_count": 119,
   "metadata": {
    "collapsed": false
   },
   "outputs": [
    {
     "data": {
      "image/png": "[encoded data removed]",
      "text/plain": [
       "<matplotlib.figure.Figure at 0x14c2838d0>"
      ]
     },
     "metadata": {},
     "output_type": "display_data"
    }
   ],
   "source": [
    "valid_loss1 = np.array([i[\"valid_loss\"] for i in net1.train_history_])\n",
    "valid_loss3 = np.array([i[\"valid_loss\"] for i in net3.train_history_])\n",
    "valid_loss4 = np.array([i[\"valid_loss\"] for i in net4.train_history_])\n",
    "valid_loss5 = np.array([i[\"valid_loss\"] for i in net5.train_history_])\n",
    "pyplot.plot(valid_loss1, linewidth=3, label=\"first attempt\")\n",
    "pyplot.plot(valid_loss3, linewidth=3, label=\"increased dropout & epoch\")\n",
    "pyplot.plot(valid_loss4, linewidth=3, label=\"increased neurons\")\n",
    "pyplot.plot(valid_loss5, linewidth=3, label=\"decreased learning rate\")\n",
    "pyplot.grid()\n",
    "pyplot.legend()\n",
    "pyplot.xlabel(\"epoch\")\n",
    "pyplot.ylabel(\"validation loss\")\n",
    "pyplot.xlim(0, 40)\n",
    "pyplot.ylim(0.48, 0.6)\n",
    "pyplot.yscale(\"log\")\n",
    "pyplot.show()"
   ]
  },
  {
   "cell_type": "markdown",
   "metadata": {},
   "source": [
    "##### We now have a good balance between number of neurons, dropout and learning rate\n",
    "##### Note that other parameters could have been tuned : number of layers, activation function ...."
   ]
  }
 ],
 "metadata": {
  "kernelspec": {
   "display_name": "Python 2",
   "language": "python",
   "name": "python2"
  },
  "language_info": {
   "codemirror_mode": {
    "name": "ipython",
    "version": 2
   },
   "file_extension": ".py",
   "mimetype": "text/x-python",
   "name": "python",
   "nbconvert_exporter": "python",
   "pygments_lexer": "ipython2",
   "version": "2.7.9"
  }
 },
 "nbformat": 4,
 "nbformat_minor": 0
}
